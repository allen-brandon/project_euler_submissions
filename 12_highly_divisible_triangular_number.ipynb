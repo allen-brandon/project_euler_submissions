{
 "cells": [
  {
   "cell_type": "markdown",
   "metadata": {},
   "source": [
    "First triangular number with over 500 divisors"
   ]
  },
  {
   "cell_type": "code",
   "execution_count": 4,
   "metadata": {},
   "outputs": [
    {
     "name": "stdout",
     "output_type": "stream",
     "text": [
      "76576500\n"
     ]
    }
   ],
   "source": [
    "from math import sqrt\n",
    "def factors(x):\n",
    "    res = sqrt(x) == int(sqrt(x))\n",
    "    for i in range(1, int(sqrt(x))):\n",
    "        res+=(not x%i)*2\n",
    "    return res\n",
    "triangle = 0\n",
    "for i in range(1, int(1e6)):\n",
    "    triangle+=i\n",
    "    if factors(triangle)>500:\n",
    "        break\n",
    "print(triangle)"
   ]
  },
  {
   "cell_type": "code",
   "execution_count": null,
   "metadata": {},
   "outputs": [],
   "source": []
  }
 ],
 "metadata": {
  "kernelspec": {
   "display_name": "Python 3",
   "language": "python",
   "name": "python3"
  },
  "language_info": {
   "codemirror_mode": {
    "name": "ipython",
    "version": 3
   },
   "file_extension": ".py",
   "mimetype": "text/x-python",
   "name": "python",
   "nbconvert_exporter": "python",
   "pygments_lexer": "ipython3",
   "version": "3.11.5"
  }
 },
 "nbformat": 4,
 "nbformat_minor": 2
}
