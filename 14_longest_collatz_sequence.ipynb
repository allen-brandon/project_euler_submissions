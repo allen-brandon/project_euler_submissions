{
 "cells": [
  {
   "cell_type": "markdown",
   "metadata": {},
   "source": [
    "The following iterative sequence is defined for the set of positive integers:\n",
    "\n",
    "(\n",
    "is even)\n",
    "(\n",
    "\n",
    "    is odd)\n",
    "\n",
    "Using the rule above and starting with\n",
    ", we generate the following sequence:\n",
    "It can be seen that this sequence (starting at and finishing at ) contains terms. Although it has not been proved yet (Collatz Problem), it is thought that all starting numbers finish at\n",
    "\n",
    ".\n",
    "\n",
    "Which starting number, under one million, produces the longest chain?\n",
    "\n",
    "NOTE: Once the chain starts the terms are allowed to go above one million."
   ]
  },
  {
   "cell_type": "code",
   "execution_count": 33,
   "metadata": {},
   "outputs": [
    {
     "name": "stdout",
     "output_type": "stream",
     "text": [
      "837799\n"
     ]
    }
   ],
   "source": [
    "from functools import cache\n",
    "\n",
    "# q = deque([1])\n",
    "# dp = [0]*(int(1e6)+1)\n",
    "# dp[1] = 1\n",
    "# depth, count = 0, 1\n",
    "# for _ in range(int(1e4)):\n",
    "#     for _ in range(len(q)):\n",
    "#         x = q.pop()\n",
    "#         if x<=1e6:\n",
    "#             dp[x] = depth\n",
    "#             count+=1\n",
    "#         if x*2<=1e6 and not dp[x*2]:\n",
    "#             q.appendleft(x*2)\n",
    "#         if x%3==1:\n",
    "#             if ((x-1)//3)&1 and not dp[((x-1)//2)]:\n",
    "#                 q.appendleft((x-1)//3)\n",
    "#     depth+=1\n",
    "\n",
    "@cache\n",
    "def dfs(x):\n",
    "    if not x: raise ValueError\n",
    "    if x == 1: return 1\n",
    "    if x&1:\n",
    "        return dfs(x*3+1)+1\n",
    "    return dfs(x//2)+1\n",
    "print(max(range(1, int(1e6+1)), key=dfs))"
   ]
  },
  {
   "cell_type": "code",
   "execution_count": null,
   "metadata": {},
   "outputs": [],
   "source": []
  }
 ],
 "metadata": {
  "kernelspec": {
   "display_name": "Python 3",
   "language": "python",
   "name": "python3"
  },
  "language_info": {
   "codemirror_mode": {
    "name": "ipython",
    "version": 3
   },
   "file_extension": ".py",
   "mimetype": "text/x-python",
   "name": "python",
   "nbconvert_exporter": "python",
   "pygments_lexer": "ipython3",
   "version": "3.11.5"
  }
 },
 "nbformat": 4,
 "nbformat_minor": 2
}
