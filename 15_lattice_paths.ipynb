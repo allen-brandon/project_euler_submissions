{
 "cells": [
  {
   "cell_type": "markdown",
   "metadata": {},
   "source": [
    "Starting in the top left corner of a 2x2 grid, and only being able to move to the right and down, there are exactly 6routes to the bottom right corner.\n",
    "\n",
    "How many such routes are there through a 20x20 grid?"
   ]
  },
  {
   "cell_type": "code",
   "execution_count": 3,
   "metadata": {},
   "outputs": [
    {
     "name": "stdout",
     "output_type": "stream",
     "text": [
      "137846528820\n"
     ]
    }
   ],
   "source": [
    "dp = [[0]*21 for _ in range(21)]\n",
    "dp[-1][-1]=1\n",
    "for i in range(20, -1, -1):\n",
    "    for j in range(20, -1, -1):\n",
    "        if i < 20:\n",
    "            dp[i][j]+=dp[i+1][j]\n",
    "        if j < 20:\n",
    "            dp[i][j]+=dp[i][j+1]\n",
    "print(dp[0][0])"
   ]
  },
  {
   "cell_type": "code",
   "execution_count": null,
   "metadata": {},
   "outputs": [],
   "source": []
  }
 ],
 "metadata": {
  "kernelspec": {
   "display_name": "Python 3",
   "language": "python",
   "name": "python3"
  },
  "language_info": {
   "codemirror_mode": {
    "name": "ipython",
    "version": 3
   },
   "file_extension": ".py",
   "mimetype": "text/x-python",
   "name": "python",
   "nbconvert_exporter": "python",
   "pygments_lexer": "ipython3",
   "version": "3.11.5"
  }
 },
 "nbformat": 4,
 "nbformat_minor": 2
}
