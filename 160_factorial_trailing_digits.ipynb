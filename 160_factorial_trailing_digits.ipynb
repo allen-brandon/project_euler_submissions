{
 "cells": [
  {
   "cell_type": "markdown",
   "metadata": {},
   "source": [
    "Find the first last 5 digits of 1e12!, before the trailing 0s"
   ]
  },
  {
   "cell_type": "code",
   "execution_count": 2,
   "metadata": {},
   "outputs": [
    {
     "name": "stdout",
     "output_type": "stream",
     "text": [
      "0.0\n"
     ]
    }
   ],
   "source": [
    "from functools import cache, partial\n",
    "#How many fives are in x\n",
    "def fives(x):\n",
    "    res = 0\n",
    "    while not x%5:\n",
    "        x//=5\n",
    "        res+=1\n",
    "    return res\n",
    "\n",
    "#What is the frequency of a suffix in the factorial?\n",
    "#Including suffixes with additional trailing 0s\n",
    "@cache\n",
    "def suf_frequency(z, x):\n",
    "    if z == 12: return 0\n",
    "    res = suf_frequency(z+1, x)\n",
    "    if z>=7: return res+1\n",
    "    freq = 1e12/(10**z)/x\n",
    "    return res+freq\n",
    "\n",
    "frequencies = list(map(partial(suf_frequency, 0), range(1, int(1e5))))\n",
    "res = 1\n",
    "f = 0\n",
    "for x, freq in enumerate(frequencies):\n",
    "    x+=1\n",
    "    f+=fives(x)*freq\n",
    "    res*=pow(x, int(freq), int(1e5))\n",
    "    res%=int(1e5)\n",
    "#Take out canceled out 5s\n",
    "res*=pow(5, int(1e5)-2, int(1e5))*f\n",
    "res%=int(1e5)\n",
    "#Take out canceled out 2s\n",
    "res*=pow(2, int(1e5)-2, int(1e5))*f\n",
    "print(res)"
   ]
  },
  {
   "cell_type": "code",
   "execution_count": null,
   "metadata": {},
   "outputs": [],
   "source": []
  }
 ],
 "metadata": {
  "kernelspec": {
   "display_name": "Python 3",
   "language": "python",
   "name": "python3"
  },
  "language_info": {
   "codemirror_mode": {
    "name": "ipython",
    "version": 3
   },
   "file_extension": ".py",
   "mimetype": "text/x-python",
   "name": "python",
   "nbconvert_exporter": "python",
   "pygments_lexer": "ipython3",
   "version": "3.11.5"
  }
 },
 "nbformat": 4,
 "nbformat_minor": 2
}
