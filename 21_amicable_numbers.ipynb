{
 "cells": [
  {
   "cell_type": "markdown",
   "metadata": {},
   "source": [
    "Find the number of 'amicable' numbers under 10000.\n",
    "\n",
    "Two numbers are amicable if the sum of their proper divisors equate to each other."
   ]
  },
  {
   "cell_type": "code",
   "execution_count": 12,
   "metadata": {},
   "outputs": [
    {
     "name": "stdout",
     "output_type": "stream",
     "text": [
      "31626\n"
     ]
    }
   ],
   "source": [
    "from collections import defaultdict\n",
    "def factors(x):\n",
    "    res = 0\n",
    "    for i in range(1, x):\n",
    "        res+=i*(not x%i)\n",
    "    return res\n",
    "seen = defaultdict(int)\n",
    "res = 0\n",
    "for x in range(1, 10001):\n",
    "    y = factors(x)\n",
    "    seen[x] = y\n",
    "    if seen[y] == x and x != y:\n",
    "        res+=x+y\n",
    "print(res)"
   ]
  },
  {
   "cell_type": "code",
   "execution_count": null,
   "metadata": {},
   "outputs": [],
   "source": []
  }
 ],
 "metadata": {
  "kernelspec": {
   "display_name": "Python 3",
   "language": "python",
   "name": "python3"
  },
  "language_info": {
   "codemirror_mode": {
    "name": "ipython",
    "version": 3
   },
   "file_extension": ".py",
   "mimetype": "text/x-python",
   "name": "python",
   "nbconvert_exporter": "python",
   "pygments_lexer": "ipython3",
   "version": "3.11.5"
  }
 },
 "nbformat": 4,
 "nbformat_minor": 2
}
