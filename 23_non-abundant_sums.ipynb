{
 "cells": [
  {
   "cell_type": "markdown",
   "metadata": {},
   "source": [
    "Find the sum of all the positive integers which cannot be written as the sum of two abundant numbers.\n",
    "An abundant number is a number whose sum of proper divisors is greater than it."
   ]
  },
  {
   "cell_type": "code",
   "execution_count": 3,
   "metadata": {},
   "outputs": [
    {
     "name": "stdout",
     "output_type": "stream",
     "text": [
      "4179871\n"
     ]
    }
   ],
   "source": [
    "from functools import cache\n",
    "#Largest number that cannot be written as a sum of two abundant numbers\n",
    "lim = 28123\n",
    "def factors(x):\n",
    "    res = 0\n",
    "    for i in range(1, x):\n",
    "        res+=i*(not x%i)\n",
    "    return res\n",
    "@cache\n",
    "def is_abundant(x):\n",
    "    return factors(x)>x\n",
    "res = 0\n",
    "for x in range(lim+1):\n",
    "    for y in range(x//2+1):\n",
    "        z = x-y\n",
    "        if is_abundant(y) and is_abundant(z): break\n",
    "    else:\n",
    "        res+=x\n",
    "print(res)"
   ]
  },
  {
   "cell_type": "code",
   "execution_count": null,
   "metadata": {},
   "outputs": [],
   "source": []
  }
 ],
 "metadata": {
  "kernelspec": {
   "display_name": "Python 3",
   "language": "python",
   "name": "python3"
  },
  "language_info": {
   "codemirror_mode": {
    "name": "ipython",
    "version": 3
   },
   "file_extension": ".py",
   "mimetype": "text/x-python",
   "name": "python",
   "nbconvert_exporter": "python",
   "pygments_lexer": "ipython3",
   "version": "3.11.5"
  }
 },
 "nbformat": 4,
 "nbformat_minor": 2
}
