{
 "cells": [
  {
   "cell_type": "markdown",
   "metadata": {},
   "source": [
    "Find the product of the coefficients, a and b, for the quadratic expression that produces the maximum number of primes for consecutive values of n, starting with n=0."
   ]
  },
  {
   "cell_type": "code",
   "execution_count": 2,
   "metadata": {},
   "outputs": [],
   "source": [
    "#Sieve\n",
    "#Binary value of whether a number is prime\n",
    "sieve = [1]*int(1e6)\n",
    "sieve[0] = 0\n",
    "sieve[1] = 0\n",
    "for i in range(2, int(1e6)):\n",
    "    if not sieve[i]: continue\n",
    "    for j in range(i*2, int(1e6), i):\n",
    "        sieve[j] = 0\n",
    "\n",
    "#List of primes\n",
    "primes = {i for i in range(int(1e6)) if sieve[i]}"
   ]
  },
  {
   "cell_type": "code",
   "execution_count": 35,
   "metadata": {},
   "outputs": [
    {
     "name": "stdout",
     "output_type": "stream",
     "text": [
      "-59231\n"
     ]
    }
   ],
   "source": [
    "from functools import reduce\n",
    "from itertools import takewhile\n",
    "from operator import mul\n",
    "\n",
    "msf = [0,0]\n",
    "test_primes = lambda a, b: len(list(takewhile(lambda n: (x:=n**2+a*n+b)>0 and sieve[x], range(1000))))\n",
    "check = lambda x: test_primes(*x)\n",
    "msf = max(([a, b] for a in range(-1000, 1001) for b in range(-1000, 1001)), key=check)\n",
    "print(reduce(mul, msf))"
   ]
  },
  {
   "cell_type": "code",
   "execution_count": 36,
   "metadata": {},
   "outputs": [
    {
     "name": "stdout",
     "output_type": "stream",
     "text": [
      "71\n",
      "[971, 911, 853, 797, 743, 691, 641, 593, 547, 503, 461, 421, 383, 347, 313, 281, 251, 223, 197, 173, 151, 131, 113, 97, 83, 71, 61, 53, 47, 43, 41, 41, 43, 47, 53, 61, 71, 83, 97, 113, 131, 151, 173, 197, 223, 251, 281, 313, 347, 383, 421, 461, 503, 547, 593, 641, 691, 743, 797, 853, 911, 971, 1033, 1097, 1163, 1231, 1301, 1373, 1447, 1523]\n"
     ]
    }
   ],
   "source": [
    "a, b = msf\n",
    "print(len(list(takewhile(lambda n: (x:=n**2+a*n+b)>0 and sieve[x], range(5000)))))\n",
    "print([(x:=n**2+a*n+b) for n in range(70)])"
   ]
  },
  {
   "cell_type": "code",
   "execution_count": null,
   "metadata": {},
   "outputs": [],
   "source": []
  }
 ],
 "metadata": {
  "kernelspec": {
   "display_name": "Python 3",
   "language": "python",
   "name": "python3"
  },
  "language_info": {
   "codemirror_mode": {
    "name": "ipython",
    "version": 3
   },
   "file_extension": ".py",
   "mimetype": "text/x-python",
   "name": "python",
   "nbconvert_exporter": "python",
   "pygments_lexer": "ipython3",
   "version": "3.11.5"
  }
 },
 "nbformat": 4,
 "nbformat_minor": 2
}
