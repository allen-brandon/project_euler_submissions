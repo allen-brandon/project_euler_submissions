{
 "cells": [
  {
   "cell_type": "code",
   "execution_count": 18,
   "metadata": {},
   "outputs": [
    {
     "name": "stdout",
     "output_type": "stream",
     "text": [
      "12 483 5796\n",
      "138 42 5796\n",
      "157 28 4396\n",
      "159 48 7632\n",
      "1738 4 6952\n",
      "18 297 5346\n",
      "186 39 7254\n",
      "1963 4 7852\n",
      "198 27 5346\n",
      "27 198 5346\n",
      "28 157 4396\n",
      "297 18 5346\n",
      "39 186 7254\n",
      "4 1738 6952\n",
      "4 1963 7852\n",
      "42 138 5796\n",
      "48 159 7632\n",
      "483 12 5796\n",
      "45228\n"
     ]
    }
   ],
   "source": [
    "import math, itertools\n",
    "res = set()\n",
    "for s in itertools.permutations('123456789'):\n",
    "    s = \"\".join(s)\n",
    "    for l in range(1, 8):\n",
    "        for r in range(l+1, 9):\n",
    "            x = int(s[:l])\n",
    "            y = int(s[l:r])\n",
    "            z = int(s[r:])\n",
    "            if x*y==z:\n",
    "                # print(x, y, z)\n",
    "                res.add(z)\n",
    "print(sum(res))\n"
   ]
  },
  {
   "cell_type": "code",
   "execution_count": null,
   "metadata": {},
   "outputs": [],
   "source": []
  }
 ],
 "metadata": {
  "kernelspec": {
   "display_name": "Python 3",
   "language": "python",
   "name": "python3"
  },
  "language_info": {
   "codemirror_mode": {
    "name": "ipython",
    "version": 3
   },
   "file_extension": ".py",
   "mimetype": "text/x-python",
   "name": "python",
   "nbconvert_exporter": "python",
   "pygments_lexer": "ipython3",
   "version": "3.11.5"
  }
 },
 "nbformat": 4,
 "nbformat_minor": 2
}
