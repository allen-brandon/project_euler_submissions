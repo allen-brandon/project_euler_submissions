{
 "cells": [
  {
   "cell_type": "code",
   "execution_count": 10,
   "metadata": {},
   "outputs": [
    {
     "name": "stdout",
     "output_type": "stream",
     "text": [
      "100\n"
     ]
    }
   ],
   "source": [
    "import math\n",
    "res = [1,1]\n",
    "for x in range(10, 100):\n",
    "    for y in range(x, 100):\n",
    "        if x == y: continue\n",
    "        if y%10 and x%10==y//10 and (x//10)/(y%10)==x/y:\n",
    "            # print(f'{x}/{y}')\n",
    "            res[0]*=x\n",
    "            res[1]*=y\n",
    "        elif x//10==y%10 and (x%10)/(y//10)==x/y:\n",
    "            print(f'{x}/{y}')\n",
    "            res[0]*=x\n",
    "            res[1]*=y\n",
    "# print(res)\n",
    "print(res[1]//math.gcd(res[0], res[1]))"
   ]
  },
  {
   "cell_type": "code",
   "execution_count": null,
   "metadata": {},
   "outputs": [],
   "source": []
  }
 ],
 "metadata": {
  "kernelspec": {
   "display_name": "Python 3",
   "language": "python",
   "name": "python3"
  },
  "language_info": {
   "codemirror_mode": {
    "name": "ipython",
    "version": 3
   },
   "file_extension": ".py",
   "mimetype": "text/x-python",
   "name": "python",
   "nbconvert_exporter": "python",
   "pygments_lexer": "ipython3",
   "version": "3.11.5"
  }
 },
 "nbformat": 4,
 "nbformat_minor": 2
}
