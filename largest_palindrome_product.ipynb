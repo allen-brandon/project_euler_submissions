{
 "cells": [
  {
   "cell_type": "code",
   "execution_count": null,
   "metadata": {},
   "outputs": [],
   "source": []
  },
  {
   "cell_type": "code",
   "execution_count": 26,
   "metadata": {},
   "outputs": [
    {
     "name": "stdout",
     "output_type": "stream",
     "text": [
      "(906609, 993, 913)\n"
     ]
    }
   ],
   "source": [
    "msf = (0,0, 0)\n",
    "for i in range(100, 1000):\n",
    "    for j in range(100, 1000):\n",
    "        prod = i*j\n",
    "        if str(prod) == str(prod)[::-1]:\n",
    "            msf = max(msf, (prod, i, j))\n",
    "print(msf)"
   ]
  }
 ],
 "metadata": {
  "kernelspec": {
   "display_name": "Python 3",
   "language": "python",
   "name": "python3"
  },
  "language_info": {
   "codemirror_mode": {
    "name": "ipython",
    "version": 3
   },
   "file_extension": ".py",
   "mimetype": "text/x-python",
   "name": "python",
   "nbconvert_exporter": "python",
   "pygments_lexer": "ipython3",
   "version": "3.8.9"
  },
  "orig_nbformat": 4
 },
 "nbformat": 4,
 "nbformat_minor": 2
}
